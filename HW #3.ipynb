{
 "cells": [
  {
   "cell_type": "markdown",
   "metadata": {},
   "source": [
    "# Homework 3\n",
    "Noam Yan\n",
    "\n",
    "## Problem 1\n",
    "\n",
    "1a) Since the confusion matrix is provided. It is esay to get the accuracy. NN makes 8 mistakes and NA makes 12 mistakes, so NN makes fewer mistakes.<br>\n",
    "1b) Considering the preference of accuracy of birds, we tend to use NA to maximize the recall regardless of the precision. <br>\n",
    "1c) To reproduce the truth table with new input, we need to calculate the precision and recall for NN and NA and naively assume the model will predict with same performance.\n",
    "\n"
   ]
  },
  {
   "cell_type": "code",
   "execution_count": 2,
   "metadata": {},
   "outputs": [],
   "source": [
    "# \n",
    "NN_tp,NN_fp,NN_fn,NN_tn = 45,5,3,47\n",
    "NA_tp,NA_fp,NA_fn,NN_tn = 47,11,1,42\n",
    "NN_prec = NN_tp/(NN_tp+NN_fp)\n",
    "NN_rec = NN_tp/(NN_tp+NN_fp)\n",
    "\n"
   ]
  },
  {
   "cell_type": "code",
   "execution_count": 3,
   "metadata": {},
   "outputs": [
    {
     "data": {
      "text/plain": [
       "0.4848484848484844"
      ]
     },
     "execution_count": 3,
     "metadata": {},
     "output_type": "execute_result"
    }
   ],
   "source": [
    "men"
   ]
  },
  {
   "cell_type": "code",
   "execution_count": null,
   "metadata": {},
   "outputs": [],
   "source": []
  }
 ],
 "metadata": {
  "kernelspec": {
   "display_name": "tf2",
   "language": "python",
   "name": "tf2"
  },
  "language_info": {
   "codemirror_mode": {
    "name": "ipython",
    "version": 3
   },
   "file_extension": ".py",
   "mimetype": "text/x-python",
   "name": "python",
   "nbconvert_exporter": "python",
   "pygments_lexer": "ipython3",
   "version": "3.7.6"
  }
 },
 "nbformat": 4,
 "nbformat_minor": 4
}
