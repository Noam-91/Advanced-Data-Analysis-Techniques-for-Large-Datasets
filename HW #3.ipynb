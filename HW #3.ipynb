{
 "cells": [
  {
   "cell_type": "markdown",
   "metadata": {},
   "source": [
    "# Homework 3\n",
    "Noam Yan\n",
    "\n",
    "## Problem 1\n",
    "\n",
    "1a) Since the confusion matrix is provided. It is esay to get the accuracy. NN makes 8 mistakes and NA makes 12 mistakes, so NN makes fewer mistakes.<br>\n",
    "1b) Considering the preference of accuracy of birds, we tend to use NA to maximize the recall regardless of the precision. <br>\n",
    "1c) To reproduce the truth table with new input, we need to calculate the recall for NN and NA and naively assume the model will predict with same performance.\n",
    "\n"
   ]
  },
  {
   "cell_type": "code",
   "execution_count": 11,
   "metadata": {},
   "outputs": [],
   "source": [
    "import numpy as np\n",
    "import matplotlib.pyplot as plt\n",
    "import pandas as pd\n",
    "from scipy import stats"
   ]
  },
  {
   "cell_type": "code",
   "execution_count": 4,
   "metadata": {},
   "outputs": [],
   "source": [
    "# \n",
    "NN_tp,NN_fp,NN_fn,NN_tn = 45,5,3,47\n",
    "NA_tp,NA_fp,NA_fn,NN_tn = 47,11,1,42\n",
    "NN_prec = NN_tp/(NN_tp+NN_fp)\n",
    "NN_rec = NN_tp/(NN_tp+NN_fp)\n",
    "\n",
    "NA_prec = NA_tp/(NA_tp+NA_fp)\n",
    "NA_rec = NA_tp/(NA_tp+NA_fp)\n"
   ]
  },
  {
   "cell_type": "code",
   "execution_count": 10,
   "metadata": {},
   "outputs": [
    {
     "data": {
      "text/plain": [
       "0.9"
      ]
     },
     "execution_count": 10,
     "metadata": {},
     "output_type": "execute_result"
    }
   ],
   "source": [
    "men = 100*.01\n",
    "birds = 100*.99\n",
    "NN_newTp = NN_rec*birds\n",
    "NN_newFp = NN_newTp / NN_prec - NN_newTp\n",
    "NN_newTp\n",
    "NN_prec"
   ]
  },
  {
   "cell_type": "markdown",
   "metadata": {},
   "source": [
    "## Problem 2\n",
    "2a)"
   ]
  },
  {
   "cell_type": "code",
   "execution_count": 15,
   "metadata": {},
   "outputs": [],
   "source": [
    "def _conv (xrange, sumOrAvg, pdf, times):\n",
    "    '''\n",
    "    sumOrAvg:  0 means sum, 1 means Avg.\n",
    "    times: can be a list or an integer.\n",
    "    '''\n",
    "    conv_pdf = pdf\n",
    "    if type(times) is int:\n",
    "        for i in range(times-1):\n",
    "            conv_pdf = np.convolve(conv_pdf,pdf)\n",
    "        conv_xrange = np.linspace(xrange[0]*times,xrange[-1]*times, conv_pdf.shape[0]) if sumOrAvg==0 else np.linspace(xrange[0],xrange[-1], conv_pdf.shape[0])\n",
    "        return conv_xrange, conv_pdf                                                                                                               \n",
    "    else:\n",
    "        ans_dist = {\"conv_xrange\":[], \"conv_pdf\":[]}                                                                                                               \n",
    "        for i in times:\n",
    "            for j in range(i-1):\n",
    "                conv_pdf = np.convolve(conv_pdf,pdf)\n",
    "            conv_xrange = np.linspace(xrange[0]*i,xrange[-1]*i, conv_pdf.shape[0]) if sumOrAvg==0 else np.linspace(xrange[0],xrange[-1], conv_pdf.shape[0])\n",
    "            ans_dist['conv_xrange'].append(conv_xrange)\n",
    "            ans_dist['conv_pdf'].append(conv_pdf)\n",
    "        return ans_dist['conv_xrange'], ans_dist['conv_pdf']"
   ]
  },
  {
   "cell_type": "code",
   "execution_count": 16,
   "metadata": {},
   "outputs": [],
   "source": [
    "xrange = np.arange(0,5,1e-2)\n",
    "pdf = stats.expon.pdf(xrange)\n",
    "sum_xrange, sum_pdf = _conv(xrange,0,pdf,2)"
   ]
  },
  {
   "cell_type": "code",
   "execution_count": 18,
   "metadata": {},
   "outputs": [
    {
     "data": {
      "text/plain": [
       "[<matplotlib.lines.Line2D at 0x225515ade88>]"
      ]
     },
     "execution_count": 18,
     "metadata": {},
     "output_type": "execute_result"
    },
    {
     "data": {
      "image/png": "[encoded data removed]",
      "text/plain": [
       "<Figure size 432x288 with 1 Axes>"
      ]
     },
     "metadata": {
      "needs_background": "light"
     },
     "output_type": "display_data"
    }
   ],
   "source": [
    "fig,ax = plt.subplots(1,1)\n",
    "ax.plot(sum_xrange,sum_pdf)"
   ]
  },
  {
   "cell_type": "markdown",
   "metadata": {},
   "source": [
    "Just like Prof.Morales showed in the second lecture, it is a Rayleigh distribution.<br> \n",
    "2b)"
   ]
  },
  {
   "cell_type": "code",
   "execution_count": 58,
   "metadata": {},
   "outputs": [
    {
     "data": {
      "text/plain": [
       "[<matplotlib.lines.Line2D at 0x225542aab08>]"
      ]
     },
     "execution_count": 58,
     "metadata": {},
     "output_type": "execute_result"
    },
    {
     "data": {
      "image/png": "[encoded data removed]",
      "text/plain": [
       "<Figure size 432x288 with 1 Axes>"
      ]
     },
     "metadata": {
      "needs_background": "light"
     },
     "output_type": "display_data"
    }
   ],
   "source": [
    "xrange1 = np.linspace(-10,10,1000)\n",
    "xrange2 = np.linspace(-2,2,1000)\n",
    "\n",
    "pdf1 = stats.norm.pdf(xrange1)\n",
    "pdf2 = stats.norm.pdf(xrange2)\n",
    "cauchy_pdf = stats.cauchy.pdf(xrange,scale=.2)\n",
    "new_pdf = pdf1/pdf2\n",
    "fig,ax = plt.subplots(1,1)\n",
    "ax.plot(xrange2,new_pdf)\n",
    "# ax.plot(xrange,cauchy_pdf)"
   ]
  },
  {
   "cell_type": "markdown",
   "metadata": {},
   "source": [
    "This is an uniform distribution located at 1.<br>\n",
    "2c)"
   ]
  },
  {
   "cell_type": "code",
   "execution_count": 43,
   "metadata": {},
   "outputs": [
    {
     "data": {
      "text/plain": [
       "(1000,)"
      ]
     },
     "execution_count": 43,
     "metadata": {},
     "output_type": "execute_result"
    }
   ],
   "source": [
    "xrange1.shape"
   ]
  },
  {
   "cell_type": "code",
   "execution_count": null,
   "metadata": {},
   "outputs": [],
   "source": []
  }
 ],
 "metadata": {
  "kernelspec": {
   "display_name": "tf2",
   "language": "python",
   "name": "tf2"
  },
  "language_info": {
   "codemirror_mode": {
    "name": "ipython",
    "version": 3
   },
   "file_extension": ".py",
   "mimetype": "text/x-python",
   "name": "python",
   "nbconvert_exporter": "python",
   "pygments_lexer": "ipython3",
   "version": "3.7.6"
  }
 },
 "nbformat": 4,
 "nbformat_minor": 4
}
